{
 "cells": [
  {
   "cell_type": "markdown",
   "metadata": {
    "collapsed": true
   },
   "source": [
    "#  The Monty Hall Problem - Lab\n",
    "\n",
    "## Introduction\n",
    "\n",
    "This lab requires you to deal with one of the popular probability problems. i.e. the Monty Hall Problem. Do some quick background search about Monty Hall and his quiz show to see how this problem came about. Here we shall quickly introduce the problem and take you through a series of exercises towards its solution.\n",
    "\n",
    "## Objectives\n",
    "\n",
    "You will be able to:\n",
    "* Understand and describe the Monty Hall problem in probabilistic terms\n",
    "* Solve the Monty Hall problem using Bayesian Logic and mathematical manipulations\n",
    "* Run a simulation to find the optimal answer for the problem, and check if it matches your calculations\n",
    "\n",
    "## The Problem\n",
    "\n",
    "#### You are on a game show, and you're given the choice of three doors.  Behind one door is a car, behind the others, goats. You pick a door, say No. 1, and the host, who knows what's behind the doors, opens another door, say No. 3, which has a goat. He then says to you, \"Do you want to pick door No. 2?\" \n",
    "\n",
    "### Is it to your advantage to change your choice , or would you rather stick with your initial choice?\n",
    "\n",
    "<img src=\"https://i.ytimg.com/vi/4Lb-6rxZxx0/maxresdefault.jpg\" width=600>\n",
    "\n",
    "This is a classical probability problem and shown here in the simplest form. Wikipedia maintains an excellent document on this problem , explanations and solutions presented, along with a critique of approaches. [Visit think link](https://en.wikipedia.org/wiki/Monty_Hall_problem) and have a quick read through introduction part to understand why this is such a popular puzzle to solve. \n",
    "\n",
    "Once you clearly understand the problem, answer following questions:\n"
   ]
  },
  {
   "cell_type": "markdown",
   "metadata": {},
   "source": [
    "## Part A: \n",
    "What does your intuition say?  Is it in your best interest to switch the door ? "
   ]
  },
  {
   "cell_type": "code",
   "execution_count": null,
   "metadata": {},
   "outputs": [],
   "source": [
    "# Your solution here  \n",
    "# Yes, you had a 1/3 probability of choosing the car before, now that the host has \n",
    "# opened one of the 3 doors and was NOT able to pick your door, there is a higher liklihood\n",
    "# that the car is behind the door you did not pick."
   ]
  },
  {
   "cell_type": "markdown",
   "metadata": {},
   "source": [
    "## Part B\n",
    "Let's assume that you pick door number 1 and Monty opens door number 3.  The question then is whether you stick with door number 1 or switch to door number 2. Let $D_i$ be the event that the car is actually behind door $i$.  Let $H$ be the event that Monty opens door number 3. First, compute $P(H \\mid D_i)$ for $i=1,2,3$.  You'll need to think carefully about the particular situation described above."
   ]
  },
  {
   "cell_type": "code",
   "execution_count": 4,
   "metadata": {},
   "outputs": [
    {
     "data": {
      "text/plain": [
       "0.5"
      ]
     },
     "execution_count": 4,
     "metadata": {},
     "output_type": "execute_result"
    }
   ],
   "source": [
    "Door_1 = (1/2) * (1/3)  \n",
    "Door_2 = 1 * (1/3)  \n",
    "Door_3 = 0 * (1/3)\n",
    "P_e = Door_1 + Door_2 + Door_3\n",
    "P_e\n",
    "#𝑃(𝑒)=1/2×1/3+(0)×1/3+(1)×1/3=1/2 .\n",
    "# Your solution here "
   ]
  },
  {
   "cell_type": "markdown",
   "metadata": {},
   "source": [
    "## Part C\n",
    "Use your results from **Part B** and the Law of Total Probability to compute $P(H)$"
   ]
  },
  {
   "cell_type": "code",
   "execution_count": 7,
   "metadata": {},
   "outputs": [
    {
     "data": {
      "text/plain": [
       "0.16666666666666666"
      ]
     },
     "execution_count": 7,
     "metadata": {},
     "output_type": "execute_result"
    }
   ],
   "source": [
    "P_H1 = Door_1 * (1/3)\n",
    "P_H2 = Door_2 * (1/3)\n",
    "P_H3 = Door_3 * (1/3)\n",
    "\n",
    "sum([P_H1, P_H2, P_H3])\n",
    "\n",
    "# Your solution here "
   ]
  },
  {
   "cell_type": "markdown",
   "metadata": {},
   "source": [
    "## Part D \n",
    "Now, use Bayes' Rule to compute $P(D_i \\mid H)$ for $i=1$ and $2$ (because these are the doors we care about). "
   ]
  },
  {
   "cell_type": "code",
   "execution_count": 8,
   "metadata": {},
   "outputs": [
    {
     "name": "stdout",
     "output_type": "stream",
     "text": [
      "0.018518518518518517 0.07407407407407407\n"
     ]
    }
   ],
   "source": [
    "One = (Door_1 * P_H1) / P_e\n",
    "Two = (Door_2 * P_H2) / P_e\n",
    "Three = (Door_3 * P_H3) / P_e\n",
    "\n",
    "print(One, Two)\n",
    "# Your solution here"
   ]
  },
  {
   "cell_type": "markdown",
   "metadata": {},
   "source": [
    "## Part E\n",
    "\n",
    "Write some simple code in Python and Numpy to simulate the Monte Hall problem and verify your results from **Parts A-D**.\n",
    "\n",
    "We are providing you with the structure of the code, fill it the formulas for calculations/polling/switching etc. "
   ]
  },
  {
   "cell_type": "code",
   "execution_count": 2,
   "metadata": {},
   "outputs": [],
   "source": [
    "import numpy as np \n",
    "def make_a_deal(switch=True):\n",
    "    doors = list(range(3))\n",
    "    car = np.random.choice(doors)\n",
    "    first_choice = np.random.choice(doors)\n",
    "    montes_options = list(set(doors) - set([car]) - set([first_choice]))\n",
    "    goat = np.random.choice(montes_options)\n",
    "    final_choice = list(set(doors) - set([goat]) - set([first_choice])) if switch else first_choice\n",
    "    return final_choice == car\n",
    "\n",
    "def monte_hall_sim(switch=True, num_trials=int(1e3)): \n",
    "    winners = None\n",
    "    state = None  # \"switching)\" if switch else \"not switching)\"\n",
    "    print(\"P(winning by \"+state+\" = {:.4f}\".format(winners/num_trials))"
   ]
  },
  {
   "cell_type": "code",
   "execution_count": 12,
   "metadata": {},
   "outputs": [
    {
     "data": {
      "text/plain": [
       "array([ True])"
      ]
     },
     "execution_count": 12,
     "metadata": {},
     "output_type": "execute_result"
    }
   ],
   "source": [
    "# Uncomment and run the cells below \n",
    "make_a_deal()"
   ]
  },
  {
   "cell_type": "code",
   "execution_count": 30,
   "metadata": {},
   "outputs": [
    {
     "data": {
      "text/plain": [
       "[0, 1]"
      ]
     },
     "execution_count": 30,
     "metadata": {},
     "output_type": "execute_result"
    }
   ],
   "source": [
    "\n",
    "#monte_hall_sim(switch=True, num_trials=int(1e5))\n",
    "\n",
    "\n",
    "\n",
    "# P(winning by switching) = 0.6675"
   ]
  },
  {
   "cell_type": "code",
   "execution_count": 6,
   "metadata": {},
   "outputs": [],
   "source": [
    "#monte_hall_sim(switch=False, num_trials=int(1e5))\n",
    "\n",
    "\n",
    "\n",
    "# P(winning by not switching) = 0.3351"
   ]
  },
  {
   "cell_type": "code",
   "execution_count": 4,
   "metadata": {},
   "outputs": [],
   "source": [
    "# Record your observations here "
   ]
  },
  {
   "cell_type": "markdown",
   "metadata": {},
   "source": [
    "## Summary \n",
    "\n",
    "In this lab, we used Bayesian calculations to solve the Monty Hall problem. We also looked at running a simulation in Numpy to prove our results through repeated random sampling from the given probability distributions. We found the results to be same as what we calculated by hand. Once again, we see how Bayesian logic can truly reflect a real life phenomenon in terms of prior and posterior knowledge. "
   ]
  }
 ],
 "metadata": {
  "kernelspec": {
   "display_name": "Python 3",
   "language": "python",
   "name": "python3"
  },
  "language_info": {
   "codemirror_mode": {
    "name": "ipython",
    "version": 3
   },
   "file_extension": ".py",
   "mimetype": "text/x-python",
   "name": "python",
   "nbconvert_exporter": "python",
   "pygments_lexer": "ipython3",
   "version": "3.6.6"
  }
 },
 "nbformat": 4,
 "nbformat_minor": 2
}
